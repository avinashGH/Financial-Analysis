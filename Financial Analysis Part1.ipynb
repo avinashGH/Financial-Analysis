{
 "cells": [
  {
   "cell_type": "code",
   "execution_count": 1,
   "id": "000ba2a5",
   "metadata": {},
   "outputs": [],
   "source": [
    "import pandas as pd"
   ]
  },
  {
   "cell_type": "markdown",
   "id": "583ec595",
   "metadata": {},
   "source": [
    "**Read CSV File using Pandas with indexing**"
   ]
  },
  {
   "cell_type": "code",
   "execution_count": 25,
   "id": "b504c95b",
   "metadata": {},
   "outputs": [],
   "source": [
    "zt = pd.read_csv('Downloads\\Zomato.Bo.csv',index_col=0)"
   ]
  },
  {
   "cell_type": "code",
   "execution_count": 26,
   "id": "dfc7c236",
   "metadata": {
    "scrolled": true
   },
   "outputs": [
    {
     "data": {
      "text/html": [
       "<div>\n",
       "<style scoped>\n",
       "    .dataframe tbody tr th:only-of-type {\n",
       "        vertical-align: middle;\n",
       "    }\n",
       "\n",
       "    .dataframe tbody tr th {\n",
       "        vertical-align: top;\n",
       "    }\n",
       "\n",
       "    .dataframe thead th {\n",
       "        text-align: right;\n",
       "    }\n",
       "</style>\n",
       "<table border=\"1\" class=\"dataframe\">\n",
       "  <thead>\n",
       "    <tr style=\"text-align: right;\">\n",
       "      <th></th>\n",
       "      <th>Open</th>\n",
       "      <th>High</th>\n",
       "      <th>Low</th>\n",
       "      <th>Close</th>\n",
       "      <th>Adj Close</th>\n",
       "      <th>Volume</th>\n",
       "    </tr>\n",
       "    <tr>\n",
       "      <th>Date</th>\n",
       "      <th></th>\n",
       "      <th></th>\n",
       "      <th></th>\n",
       "      <th></th>\n",
       "      <th></th>\n",
       "      <th></th>\n",
       "    </tr>\n",
       "  </thead>\n",
       "  <tbody>\n",
       "    <tr>\n",
       "      <th>2023-04-19</th>\n",
       "      <td>53.500000</td>\n",
       "      <td>55.900002</td>\n",
       "      <td>53.200001</td>\n",
       "      <td>54.139999</td>\n",
       "      <td>54.139999</td>\n",
       "      <td>6906690.0</td>\n",
       "    </tr>\n",
       "    <tr>\n",
       "      <th>2023-04-20</th>\n",
       "      <td>54.450001</td>\n",
       "      <td>54.450001</td>\n",
       "      <td>53.669998</td>\n",
       "      <td>54.209999</td>\n",
       "      <td>54.209999</td>\n",
       "      <td>1181241.0</td>\n",
       "    </tr>\n",
       "    <tr>\n",
       "      <th>2023-04-21</th>\n",
       "      <td>54.470001</td>\n",
       "      <td>56.660000</td>\n",
       "      <td>54.099998</td>\n",
       "      <td>56.029999</td>\n",
       "      <td>56.029999</td>\n",
       "      <td>7780319.0</td>\n",
       "    </tr>\n",
       "    <tr>\n",
       "      <th>2023-04-24</th>\n",
       "      <td>55.200001</td>\n",
       "      <td>56.330002</td>\n",
       "      <td>54.750000</td>\n",
       "      <td>55.959999</td>\n",
       "      <td>55.959999</td>\n",
       "      <td>2714408.0</td>\n",
       "    </tr>\n",
       "    <tr>\n",
       "      <th>2023-04-25</th>\n",
       "      <td>56.299999</td>\n",
       "      <td>60.580002</td>\n",
       "      <td>56.299999</td>\n",
       "      <td>57.790001</td>\n",
       "      <td>57.790001</td>\n",
       "      <td>12686660.0</td>\n",
       "    </tr>\n",
       "  </tbody>\n",
       "</table>\n",
       "</div>"
      ],
      "text/plain": [
       "                 Open       High        Low      Close  Adj Close      Volume\n",
       "Date                                                                         \n",
       "2023-04-19  53.500000  55.900002  53.200001  54.139999  54.139999   6906690.0\n",
       "2023-04-20  54.450001  54.450001  53.669998  54.209999  54.209999   1181241.0\n",
       "2023-04-21  54.470001  56.660000  54.099998  56.029999  56.029999   7780319.0\n",
       "2023-04-24  55.200001  56.330002  54.750000  55.959999  55.959999   2714408.0\n",
       "2023-04-25  56.299999  60.580002  56.299999  57.790001  57.790001  12686660.0"
      ]
     },
     "execution_count": 26,
     "metadata": {},
     "output_type": "execute_result"
    }
   ],
   "source": [
    "zt.head()"
   ]
  },
  {
   "cell_type": "code",
   "execution_count": 27,
   "id": "6cdb666f",
   "metadata": {},
   "outputs": [
    {
     "data": {
      "text/plain": [
       "Index(['2023-04-19', '2023-04-20', '2023-04-21', '2023-04-24', '2023-04-25',\n",
       "       '2023-04-26', '2023-04-27', '2023-04-28', '2023-05-02', '2023-05-03',\n",
       "       ...\n",
       "       '2024-04-03', '2024-04-04', '2024-04-05', '2024-04-08', '2024-04-09',\n",
       "       '2024-04-10', '2024-04-12', '2024-04-15', '2024-04-16', '2024-04-18'],\n",
       "      dtype='object', name='Date', length=246)"
      ]
     },
     "execution_count": 27,
     "metadata": {},
     "output_type": "execute_result"
    }
   ],
   "source": [
    "zt.index\n"
   ]
  },
  {
   "cell_type": "code",
   "execution_count": 28,
   "id": "89cb1701",
   "metadata": {},
   "outputs": [
    {
     "data": {
      "text/plain": [
       "'2023-04-19'"
      ]
     },
     "execution_count": 28,
     "metadata": {},
     "output_type": "execute_result"
    }
   ],
   "source": [
    "zt.index[0]\n"
   ]
  },
  {
   "cell_type": "code",
   "execution_count": 29,
   "id": "ca62facc",
   "metadata": {},
   "outputs": [
    {
     "data": {
      "text/plain": [
       "'2024-04-18'"
      ]
     },
     "execution_count": 29,
     "metadata": {},
     "output_type": "execute_result"
    }
   ],
   "source": [
    "zt.index[-1]"
   ]
  },
  {
   "cell_type": "code",
   "execution_count": 30,
   "id": "510a79ce",
   "metadata": {},
   "outputs": [
    {
     "data": {
      "text/plain": [
       "Index(['Open', 'High', 'Low', 'Close', 'Adj Close', 'Volume'], dtype='object')"
      ]
     },
     "execution_count": 30,
     "metadata": {},
     "output_type": "execute_result"
    }
   ],
   "source": [
    "zt.columns"
   ]
  },
  {
   "cell_type": "code",
   "execution_count": 31,
   "id": "73bebb08",
   "metadata": {},
   "outputs": [
    {
     "data": {
      "text/plain": [
       "(246, 6)"
      ]
     },
     "execution_count": 31,
     "metadata": {},
     "output_type": "execute_result"
    }
   ],
   "source": [
    "zt.shape"
   ]
  },
  {
   "cell_type": "code",
   "execution_count": 32,
   "id": "4710f2aa",
   "metadata": {},
   "outputs": [
    {
     "data": {
      "text/html": [
       "<div>\n",
       "<style scoped>\n",
       "    .dataframe tbody tr th:only-of-type {\n",
       "        vertical-align: middle;\n",
       "    }\n",
       "\n",
       "    .dataframe tbody tr th {\n",
       "        vertical-align: top;\n",
       "    }\n",
       "\n",
       "    .dataframe thead th {\n",
       "        text-align: right;\n",
       "    }\n",
       "</style>\n",
       "<table border=\"1\" class=\"dataframe\">\n",
       "  <thead>\n",
       "    <tr style=\"text-align: right;\">\n",
       "      <th></th>\n",
       "      <th>Open</th>\n",
       "      <th>High</th>\n",
       "      <th>Low</th>\n",
       "      <th>Close</th>\n",
       "      <th>Adj Close</th>\n",
       "      <th>Volume</th>\n",
       "    </tr>\n",
       "    <tr>\n",
       "      <th>Date</th>\n",
       "      <th></th>\n",
       "      <th></th>\n",
       "      <th></th>\n",
       "      <th></th>\n",
       "      <th></th>\n",
       "      <th></th>\n",
       "    </tr>\n",
       "  </thead>\n",
       "  <tbody>\n",
       "    <tr>\n",
       "      <th>2024-04-10</th>\n",
       "      <td>195.199997</td>\n",
       "      <td>199.550003</td>\n",
       "      <td>194.000000</td>\n",
       "      <td>196.800003</td>\n",
       "      <td>196.800003</td>\n",
       "      <td>2656530.0</td>\n",
       "    </tr>\n",
       "    <tr>\n",
       "      <th>2024-04-12</th>\n",
       "      <td>196.250000</td>\n",
       "      <td>199.750000</td>\n",
       "      <td>190.500000</td>\n",
       "      <td>192.449997</td>\n",
       "      <td>192.449997</td>\n",
       "      <td>1861164.0</td>\n",
       "    </tr>\n",
       "    <tr>\n",
       "      <th>2024-04-15</th>\n",
       "      <td>184.000000</td>\n",
       "      <td>192.399994</td>\n",
       "      <td>184.000000</td>\n",
       "      <td>188.100006</td>\n",
       "      <td>188.100006</td>\n",
       "      <td>5049412.0</td>\n",
       "    </tr>\n",
       "    <tr>\n",
       "      <th>2024-04-16</th>\n",
       "      <td>187.000000</td>\n",
       "      <td>189.149994</td>\n",
       "      <td>183.949997</td>\n",
       "      <td>186.750000</td>\n",
       "      <td>186.750000</td>\n",
       "      <td>5527699.0</td>\n",
       "    </tr>\n",
       "    <tr>\n",
       "      <th>2024-04-18</th>\n",
       "      <td>188.699997</td>\n",
       "      <td>189.449997</td>\n",
       "      <td>182.899994</td>\n",
       "      <td>185.149994</td>\n",
       "      <td>185.149994</td>\n",
       "      <td>3196001.0</td>\n",
       "    </tr>\n",
       "  </tbody>\n",
       "</table>\n",
       "</div>"
      ],
      "text/plain": [
       "                  Open        High         Low       Close   Adj Close  \\\n",
       "Date                                                                     \n",
       "2024-04-10  195.199997  199.550003  194.000000  196.800003  196.800003   \n",
       "2024-04-12  196.250000  199.750000  190.500000  192.449997  192.449997   \n",
       "2024-04-15  184.000000  192.399994  184.000000  188.100006  188.100006   \n",
       "2024-04-16  187.000000  189.149994  183.949997  186.750000  186.750000   \n",
       "2024-04-18  188.699997  189.449997  182.899994  185.149994  185.149994   \n",
       "\n",
       "               Volume  \n",
       "Date                   \n",
       "2024-04-10  2656530.0  \n",
       "2024-04-12  1861164.0  \n",
       "2024-04-15  5049412.0  \n",
       "2024-04-16  5527699.0  \n",
       "2024-04-18  3196001.0  "
      ]
     },
     "execution_count": 32,
     "metadata": {},
     "output_type": "execute_result"
    }
   ],
   "source": [
    "zt.tail()"
   ]
  },
  {
   "cell_type": "code",
   "execution_count": 33,
   "id": "8caa1ba4",
   "metadata": {},
   "outputs": [
    {
     "data": {
      "text/html": [
       "<div>\n",
       "<style scoped>\n",
       "    .dataframe tbody tr th:only-of-type {\n",
       "        vertical-align: middle;\n",
       "    }\n",
       "\n",
       "    .dataframe tbody tr th {\n",
       "        vertical-align: top;\n",
       "    }\n",
       "\n",
       "    .dataframe thead th {\n",
       "        text-align: right;\n",
       "    }\n",
       "</style>\n",
       "<table border=\"1\" class=\"dataframe\">\n",
       "  <thead>\n",
       "    <tr style=\"text-align: right;\">\n",
       "      <th></th>\n",
       "      <th>Open</th>\n",
       "      <th>High</th>\n",
       "      <th>Low</th>\n",
       "      <th>Close</th>\n",
       "      <th>Adj Close</th>\n",
       "      <th>Volume</th>\n",
       "    </tr>\n",
       "  </thead>\n",
       "  <tbody>\n",
       "    <tr>\n",
       "      <th>count</th>\n",
       "      <td>230.000000</td>\n",
       "      <td>230.000000</td>\n",
       "      <td>230.000000</td>\n",
       "      <td>230.000000</td>\n",
       "      <td>230.000000</td>\n",
       "      <td>2.300000e+02</td>\n",
       "    </tr>\n",
       "    <tr>\n",
       "      <th>mean</th>\n",
       "      <td>113.205218</td>\n",
       "      <td>115.462000</td>\n",
       "      <td>111.150479</td>\n",
       "      <td>113.269609</td>\n",
       "      <td>113.269609</td>\n",
       "      <td>6.782805e+06</td>\n",
       "    </tr>\n",
       "    <tr>\n",
       "      <th>std</th>\n",
       "      <td>35.783714</td>\n",
       "      <td>36.466447</td>\n",
       "      <td>34.976479</td>\n",
       "      <td>35.746078</td>\n",
       "      <td>35.746078</td>\n",
       "      <td>2.551091e+07</td>\n",
       "    </tr>\n",
       "    <tr>\n",
       "      <th>min</th>\n",
       "      <td>53.500000</td>\n",
       "      <td>54.450001</td>\n",
       "      <td>53.200001</td>\n",
       "      <td>54.139999</td>\n",
       "      <td>54.139999</td>\n",
       "      <td>6.938110e+05</td>\n",
       "    </tr>\n",
       "    <tr>\n",
       "      <th>25%</th>\n",
       "      <td>83.232502</td>\n",
       "      <td>85.754999</td>\n",
       "      <td>81.815001</td>\n",
       "      <td>84.067499</td>\n",
       "      <td>84.067499</td>\n",
       "      <td>2.101244e+06</td>\n",
       "    </tr>\n",
       "    <tr>\n",
       "      <th>50%</th>\n",
       "      <td>110.075001</td>\n",
       "      <td>112.950001</td>\n",
       "      <td>108.650002</td>\n",
       "      <td>110.425003</td>\n",
       "      <td>110.425003</td>\n",
       "      <td>3.225764e+06</td>\n",
       "    </tr>\n",
       "    <tr>\n",
       "      <th>75%</th>\n",
       "      <td>135.524994</td>\n",
       "      <td>137.587498</td>\n",
       "      <td>132.550003</td>\n",
       "      <td>135.450005</td>\n",
       "      <td>135.450005</td>\n",
       "      <td>5.024648e+06</td>\n",
       "    </tr>\n",
       "    <tr>\n",
       "      <th>max</th>\n",
       "      <td>196.250000</td>\n",
       "      <td>199.750000</td>\n",
       "      <td>194.000000</td>\n",
       "      <td>196.800003</td>\n",
       "      <td>196.800003</td>\n",
       "      <td>3.039792e+08</td>\n",
       "    </tr>\n",
       "  </tbody>\n",
       "</table>\n",
       "</div>"
      ],
      "text/plain": [
       "             Open        High         Low       Close   Adj Close  \\\n",
       "count  230.000000  230.000000  230.000000  230.000000  230.000000   \n",
       "mean   113.205218  115.462000  111.150479  113.269609  113.269609   \n",
       "std     35.783714   36.466447   34.976479   35.746078   35.746078   \n",
       "min     53.500000   54.450001   53.200001   54.139999   54.139999   \n",
       "25%     83.232502   85.754999   81.815001   84.067499   84.067499   \n",
       "50%    110.075001  112.950001  108.650002  110.425003  110.425003   \n",
       "75%    135.524994  137.587498  132.550003  135.450005  135.450005   \n",
       "max    196.250000  199.750000  194.000000  196.800003  196.800003   \n",
       "\n",
       "             Volume  \n",
       "count  2.300000e+02  \n",
       "mean   6.782805e+06  \n",
       "std    2.551091e+07  \n",
       "min    6.938110e+05  \n",
       "25%    2.101244e+06  \n",
       "50%    3.225764e+06  \n",
       "75%    5.024648e+06  \n",
       "max    3.039792e+08  "
      ]
     },
     "execution_count": 33,
     "metadata": {},
     "output_type": "execute_result"
    }
   ],
   "source": [
    "zt.describe()"
   ]
  },
  {
   "cell_type": "markdown",
   "id": "b1e41c5c",
   "metadata": {},
   "source": [
    "_**Indexing**_"
   ]
  },
  {
   "cell_type": "code",
   "execution_count": 37,
   "id": "dc3cda5b",
   "metadata": {},
   "outputs": [
    {
     "data": {
      "text/plain": [
       "185.149994"
      ]
     },
     "execution_count": 37,
     "metadata": {},
     "output_type": "execute_result"
    }
   ],
   "source": [
    "zt.loc['2024-04-18','Close']"
   ]
  },
  {
   "cell_type": "code",
   "execution_count": 39,
   "id": "24df2008",
   "metadata": {},
   "outputs": [
    {
     "data": {
      "text/plain": [
       "185.149994"
      ]
     },
     "execution_count": 39,
     "metadata": {},
     "output_type": "execute_result"
    }
   ],
   "source": [
    "zt.iloc[-1,3]"
   ]
  },
  {
   "cell_type": "code",
   "execution_count": 41,
   "id": "3007139f",
   "metadata": {},
   "outputs": [
    {
     "data": {
      "text/plain": [
       "Date\n",
       "2024-04-01    184.550003\n",
       "2024-04-02    183.050003\n",
       "2024-04-03    178.399994\n",
       "2024-04-04    186.949997\n",
       "2024-04-05    190.500000\n",
       "2024-04-08    191.800003\n",
       "2024-04-09    193.699997\n",
       "2024-04-10    196.800003\n",
       "2024-04-12    192.449997\n",
       "2024-04-15    188.100006\n",
       "2024-04-16    186.750000\n",
       "2024-04-18    185.149994\n",
       "Name: Close, dtype: float64"
      ]
     },
     "execution_count": 41,
     "metadata": {},
     "output_type": "execute_result"
    }
   ],
   "source": [
    "zt.loc['2024-04-01':'2024-04-18','Close']"
   ]
  },
  {
   "cell_type": "code",
   "execution_count": 42,
   "id": "cdde18e9",
   "metadata": {
    "scrolled": true
   },
   "outputs": [
    {
     "data": {
      "text/plain": [
       "Date\n",
       "2024-03-12    156.800003\n",
       "2024-03-13    148.550003\n",
       "2024-03-14    152.750000\n",
       "2024-03-15    159.899994\n",
       "2024-03-18    158.199997\n",
       "2024-03-19    158.000000\n",
       "2024-03-20    165.699997\n",
       "2024-03-21    169.350006\n",
       "2024-03-22    174.100006\n",
       "2024-03-26    182.600006\n",
       "2024-03-27    179.500000\n",
       "2024-03-28    182.350006\n",
       "2024-04-01    184.550003\n",
       "2024-04-02    183.050003\n",
       "2024-04-03    178.399994\n",
       "2024-04-04    186.949997\n",
       "2024-04-05    190.500000\n",
       "2024-04-08    191.800003\n",
       "2024-04-09    193.699997\n",
       "2024-04-10    196.800003\n",
       "2024-04-12    192.449997\n",
       "2024-04-15    188.100006\n",
       "2024-04-16    186.750000\n",
       "2024-04-18    185.149994\n",
       "Name: Close, dtype: float64"
      ]
     },
     "execution_count": 42,
     "metadata": {},
     "output_type": "execute_result"
    }
   ],
   "source": [
    "zt.iloc[222:,3]"
   ]
  },
  {
   "cell_type": "code",
   "execution_count": 45,
   "id": "eb48f3cb",
   "metadata": {
    "scrolled": true
   },
   "outputs": [
    {
     "data": {
      "text/plain": [
       "<AxesSubplot:xlabel='Date'>"
      ]
     },
     "execution_count": 45,
     "metadata": {},
     "output_type": "execute_result"
    },
    {
     "data": {
      "image/png": "[encoded data removed]",
      "text/plain": [
       "<Figure size 640x480 with 1 Axes>"
      ]
     },
     "metadata": {},
     "output_type": "display_data"
    }
   ],
   "source": [
    "zt.loc['2024-01-01':'2024-01-31','Close'].plot()\n",
    "zt.loc['2024-02-01':'2024-02-29','Close'].plot()\n",
    "zt.loc['2024-03-01':'2024-03-31','Close'].plot()\n",
    "zt.loc['2024-04-01':'2024-04-18','Close'].plot()\n",
    "\n",
    "\n",
    "\n"
   ]
  },
  {
   "cell_type": "code",
   "execution_count": null,
   "id": "92a848fb",
   "metadata": {
    "scrolled": true
   },
   "outputs": [],
   "source": []
  },
  {
   "cell_type": "code",
   "execution_count": null,
   "id": "6f00d052",
   "metadata": {},
   "outputs": [],
   "source": []
  }
 ],
 "metadata": {
  "kernelspec": {
   "display_name": "Python 3 (ipykernel)",
   "language": "python",
   "name": "python3"
  },
  "language_info": {
   "codemirror_mode": {
    "name": "ipython",
    "version": 3
   },
   "file_extension": ".py",
   "mimetype": "text/x-python",
   "name": "python",
   "nbconvert_exporter": "python",
   "pygments_lexer": "ipython3",
   "version": "3.9.13"
  }
 },
 "nbformat": 4,
 "nbformat_minor": 5
}
